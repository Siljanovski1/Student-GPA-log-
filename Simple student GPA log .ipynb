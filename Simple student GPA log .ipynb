{
 "cells": [
  {
   "cell_type": "code",
   "execution_count": null,
   "metadata": {},
   "outputs": [],
   "source": [
    "from peewee import *\n",
    "\n",
    "db = SqliteDatabase('students.db')\n",
    "\n",
    "\n",
    "class Student(Model):\n",
    "    username = CharField(max_length=250, unique=True)\n",
    "    points = IntegerField(default=0)\n",
    "    \n",
    "    class Meta:\n",
    "        database = db\n",
    "        \n",
    "        \n",
    "students = [\n",
    "    {'username': 'Toni Boloni',\n",
    "     'points': 244},\n",
    "    {'username': 'Kaleigh Levantino',\n",
    "     'points': 255},\n",
    "    {'username': 'Stefan Siljanovski',\n",
    "     'points': 266},\n",
    "]\n",
    "\n",
    "\n",
    "def add_students():\n",
    "    for student in students:\n",
    "        try:\n",
    "            Student.create(username=student['username'])\n",
    "        except IntegrityError:\n",
    "            student_record = Student.get(username=student['username'])\n",
    "            student_record.points = student['points']\n",
    "            student_record.save()\n",
    "\n",
    "            \n",
    "def top_student():\n",
    "    student = Student.select().order_by(Student.points.desc()).get()\n",
    "    return student\n",
    "\n",
    "\n",
    "if __name__ == '__main__':\n",
    "    db.connect()\n",
    "    db.create_tables([Student], safe=True)\n",
    "    add_students()\n",
    "    print('The top student is: {0.username}'.format(top_student()))\n",
    "    "
   ]
  }
 ],
 "metadata": {
  "kernelspec": {
   "display_name": "Python 3",
   "language": "python",
   "name": "python3"
  },
  "language_info": {
   "codemirror_mode": {
    "name": "ipython",
    "version": 3
   },
   "file_extension": ".py",
   "mimetype": "text/x-python",
   "name": "python",
   "nbconvert_exporter": "python",
   "pygments_lexer": "ipython3",
   "version": "3.7.6"
  }
 },
 "nbformat": 4,
 "nbformat_minor": 4
}
